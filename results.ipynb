{
 "cells": [
  {
   "cell_type": "code",
   "execution_count": 91,
   "metadata": {},
   "outputs": [],
   "source": [
    "import pandas as pd\n",
    "import matplotlib.pyplot as plt\n",
    "import numpy as np\n",
    "from scipy.stats.stats import pearsonr"
   ]
  },
  {
   "cell_type": "code",
   "execution_count": 82,
   "metadata": {},
   "outputs": [],
   "source": [
    "import warnings\n",
    "warnings.filterwarnings(\"ignore\")"
   ]
  },
  {
   "cell_type": "code",
   "execution_count": 93,
   "metadata": {},
   "outputs": [
    {
     "data": {
      "text/html": [
       "<div>\n",
       "<style scoped>\n",
       "    .dataframe tbody tr th:only-of-type {\n",
       "        vertical-align: middle;\n",
       "    }\n",
       "\n",
       "    .dataframe tbody tr th {\n",
       "        vertical-align: top;\n",
       "    }\n",
       "\n",
       "    .dataframe thead th {\n",
       "        text-align: right;\n",
       "    }\n",
       "</style>\n",
       "<table border=\"1\" class=\"dataframe\">\n",
       "  <thead>\n",
       "    <tr style=\"text-align: right;\">\n",
       "      <th></th>\n",
       "      <th>iteration</th>\n",
       "      <th>replication</th>\n",
       "      <th>neuroticismInfluence</th>\n",
       "      <th>socialInfluence</th>\n",
       "      <th>mathScoreInfluence</th>\n",
       "      <th>monthExchangeRate</th>\n",
       "      <th>mediaBias</th>\n",
       "      <th>womenSTEMPercentage</th>\n",
       "      <th>womenScience</th>\n",
       "      <th>menScience</th>\n",
       "      <th>womenNeuroticism</th>\n",
       "      <th>menNeuroticism</th>\n",
       "      <th>womenMathScoreAvg</th>\n",
       "      <th>menMathScoreAvg</th>\n",
       "    </tr>\n",
       "  </thead>\n",
       "  <tbody>\n",
       "    <tr>\n",
       "      <th>0</th>\n",
       "      <td>1</td>\n",
       "      <td>1</td>\n",
       "      <td>0.1</td>\n",
       "      <td>0.1</td>\n",
       "      <td>0.1</td>\n",
       "      <td>6</td>\n",
       "      <td>0.5</td>\n",
       "      <td>0.521008</td>\n",
       "      <td>256.0</td>\n",
       "      <td>293.0</td>\n",
       "      <td>419.0</td>\n",
       "      <td>365.0</td>\n",
       "      <td>4.864516</td>\n",
       "      <td>5.339309</td>\n",
       "    </tr>\n",
       "    <tr>\n",
       "      <th>1</th>\n",
       "      <td>1</td>\n",
       "      <td>2</td>\n",
       "      <td>0.1</td>\n",
       "      <td>0.1</td>\n",
       "      <td>0.1</td>\n",
       "      <td>6</td>\n",
       "      <td>0.5</td>\n",
       "      <td>0.516588</td>\n",
       "      <td>289.0</td>\n",
       "      <td>261.0</td>\n",
       "      <td>389.0</td>\n",
       "      <td>346.0</td>\n",
       "      <td>5.196742</td>\n",
       "      <td>5.129235</td>\n",
       "    </tr>\n",
       "    <tr>\n",
       "      <th>2</th>\n",
       "      <td>1</td>\n",
       "      <td>3</td>\n",
       "      <td>0.1</td>\n",
       "      <td>0.1</td>\n",
       "      <td>0.1</td>\n",
       "      <td>6</td>\n",
       "      <td>0.5</td>\n",
       "      <td>0.481793</td>\n",
       "      <td>254.0</td>\n",
       "      <td>225.0</td>\n",
       "      <td>425.0</td>\n",
       "      <td>342.0</td>\n",
       "      <td>4.321871</td>\n",
       "      <td>5.044881</td>\n",
       "    </tr>\n",
       "    <tr>\n",
       "      <th>3</th>\n",
       "      <td>1</td>\n",
       "      <td>4</td>\n",
       "      <td>0.1</td>\n",
       "      <td>0.1</td>\n",
       "      <td>0.1</td>\n",
       "      <td>6</td>\n",
       "      <td>0.5</td>\n",
       "      <td>0.523546</td>\n",
       "      <td>253.0</td>\n",
       "      <td>230.0</td>\n",
       "      <td>449.0</td>\n",
       "      <td>342.0</td>\n",
       "      <td>4.582166</td>\n",
       "      <td>5.079365</td>\n",
       "    </tr>\n",
       "    <tr>\n",
       "      <th>4</th>\n",
       "      <td>1</td>\n",
       "      <td>5</td>\n",
       "      <td>0.1</td>\n",
       "      <td>0.1</td>\n",
       "      <td>0.1</td>\n",
       "      <td>6</td>\n",
       "      <td>0.5</td>\n",
       "      <td>0.534435</td>\n",
       "      <td>265.0</td>\n",
       "      <td>229.0</td>\n",
       "      <td>430.0</td>\n",
       "      <td>322.0</td>\n",
       "      <td>4.594148</td>\n",
       "      <td>5.000000</td>\n",
       "    </tr>\n",
       "  </tbody>\n",
       "</table>\n",
       "</div>"
      ],
      "text/plain": [
       "   iteration  replication  neuroticismInfluence  socialInfluence  \\\n",
       "0          1            1                   0.1              0.1   \n",
       "1          1            2                   0.1              0.1   \n",
       "2          1            3                   0.1              0.1   \n",
       "3          1            4                   0.1              0.1   \n",
       "4          1            5                   0.1              0.1   \n",
       "\n",
       "   mathScoreInfluence  monthExchangeRate  mediaBias  womenSTEMPercentage  \\\n",
       "0                 0.1                  6        0.5             0.521008   \n",
       "1                 0.1                  6        0.5             0.516588   \n",
       "2                 0.1                  6        0.5             0.481793   \n",
       "3                 0.1                  6        0.5             0.523546   \n",
       "4                 0.1                  6        0.5             0.534435   \n",
       "\n",
       "   womenScience  menScience  womenNeuroticism  menNeuroticism  \\\n",
       "0         256.0       293.0             419.0           365.0   \n",
       "1         289.0       261.0             389.0           346.0   \n",
       "2         254.0       225.0             425.0           342.0   \n",
       "3         253.0       230.0             449.0           342.0   \n",
       "4         265.0       229.0             430.0           322.0   \n",
       "\n",
       "   womenMathScoreAvg  menMathScoreAvg  \n",
       "0           4.864516         5.339309  \n",
       "1           5.196742         5.129235  \n",
       "2           4.321871         5.044881  \n",
       "3           4.582166         5.079365  \n",
       "4           4.594148         5.000000  "
      ]
     },
     "execution_count": 93,
     "metadata": {},
     "output_type": "execute_result"
    }
   ],
   "source": [
    "data = pd.read_csv(\"log.csv\")\n",
    "data.head()"
   ]
  },
  {
   "attachments": {},
   "cell_type": "markdown",
   "metadata": {},
   "source": [
    "##   Neuroticism"
   ]
  },
  {
   "attachments": {},
   "cell_type": "markdown",
   "metadata": {},
   "source": [
    "Neuroticism is one of the fundamental dimensions of personality described by the Big Five model. It reflects an individual's tendency to experience negative emotions and emotional instability. People who score high on the neuroticism scale are more likely to feel anxious, sad, and moody. Women tend to develop higher neuroticism scores."
   ]
  },
  {
   "cell_type": "code",
   "execution_count": 84,
   "metadata": {},
   "outputs": [
    {
     "data": {
      "text/plain": [
       "womenNeuroticism    409.234580\n",
       "menNeuroticism      356.376261\n",
       "dtype: float64"
      ]
     },
     "execution_count": 84,
     "metadata": {},
     "output_type": "execute_result"
    }
   ],
   "source": [
    "data[[\"womenNeuroticism\", \"menNeuroticism\"]].mean()"
   ]
  },
  {
   "attachments": {},
   "cell_type": "markdown",
   "metadata": {},
   "source": [
    "##   Science Interest"
   ]
  },
  {
   "cell_type": "code",
   "execution_count": 85,
   "metadata": {},
   "outputs": [
    {
     "data": {
      "text/plain": [
       "womenScience    237.804221\n",
       "menScience      273.185959\n",
       "dtype: float64"
      ]
     },
     "execution_count": 85,
     "metadata": {},
     "output_type": "execute_result"
    }
   ],
   "source": [
    "data[[\"womenScience\", \"menScience\"]].mean()"
   ]
  },
  {
   "attachments": {},
   "cell_type": "markdown",
   "metadata": {},
   "source": [
    "Let's see how this changes as __media bias__ changes"
   ]
  },
  {
   "cell_type": "code",
   "execution_count": 86,
   "metadata": {},
   "outputs": [
    {
     "data": {
      "image/png": "[encoded data removed]",
      "text/plain": [
       "<Figure size 432x288 with 1 Axes>"
      ]
     },
     "metadata": {
      "needs_background": "light"
     },
     "output_type": "display_data"
    }
   ],
   "source": [
    "ax = data.groupby([\"iteration\"]).mean().groupby([\"mediaBias\"]).mean()[\"womenScience\"].plot();\n",
    "data.groupby([\"iteration\"]).mean().groupby([\"mediaBias\"]).mean()[\"menScience\"].plot();\n",
    "ax.set_ylabel(\"Science interest frequency\");\n",
    "ax.legend([\"women\", \"men\"]);"
   ]
  },
  {
   "attachments": {},
   "cell_type": "markdown",
   "metadata": {},
   "source": [
    "Interests also change as the __exchange rate changes__. Let's see how."
   ]
  },
  {
   "cell_type": "code",
   "execution_count": 87,
   "metadata": {},
   "outputs": [
    {
     "data": {
      "image/png": "[encoded data removed]",
      "text/plain": [
       "<Figure size 432x288 with 1 Axes>"
      ]
     },
     "metadata": {
      "needs_background": "light"
     },
     "output_type": "display_data"
    }
   ],
   "source": [
    "ax = data.groupby([\"iteration\"]).mean().groupby([\"monthExchangeRate\"]).mean()[\"womenScience\"].plot();\n",
    "data.groupby([\"iteration\"]).mean().groupby([\"monthExchangeRate\"]).mean()[\"menScience\"].plot();\n",
    "ax.set_ylabel(\"Science interest frequency\");\n",
    "ax.legend([\"women\", \"men\"]);"
   ]
  },
  {
   "attachments": {},
   "cell_type": "markdown",
   "metadata": {},
   "source": [
    "## Math Score"
   ]
  },
  {
   "attachments": {},
   "cell_type": "markdown",
   "metadata": {},
   "source": [
    "In the model, women exhibit a worse math score than men "
   ]
  },
  {
   "cell_type": "code",
   "execution_count": 8,
   "metadata": {},
   "outputs": [
    {
     "data": {
      "text/plain": [
       "womenMathScoreAvg    3.577618\n",
       "menMathScoreAvg      3.906106\n",
       "dtype: float64"
      ]
     },
     "execution_count": 8,
     "metadata": {},
     "output_type": "execute_result"
    }
   ],
   "source": [
    "data[[\"womenMathScoreAvg\", \"menMathScoreAvg\"]].mean()"
   ]
  },
  {
   "cell_type": "code",
   "execution_count": 27,
   "metadata": {},
   "outputs": [
    {
     "data": {
      "text/plain": [
       "womenMathScoreAvg    0.911046\n",
       "menMathScoreAvg      1.003717\n",
       "dtype: float64"
      ]
     },
     "execution_count": 27,
     "metadata": {},
     "output_type": "execute_result"
    }
   ],
   "source": [
    "data[[\"womenMathScoreAvg\", \"menMathScoreAvg\"]].std()"
   ]
  },
  {
   "attachments": {},
   "cell_type": "markdown",
   "metadata": {},
   "source": [
    "This is partially due to the higher neuroticism scores and its reinforcing mechanism in learning. The other reason is the different interest in science. "
   ]
  },
  {
   "attachments": {},
   "cell_type": "markdown",
   "metadata": {},
   "source": [
    "Let's see how math score changes based on mediaBias (influencing interests in men and women)"
   ]
  },
  {
   "cell_type": "code",
   "execution_count": 89,
   "metadata": {},
   "outputs": [
    {
     "data": {
      "image/png": "[encoded data removed]",
      "text/plain": [
       "<Figure size 432x288 with 1 Axes>"
      ]
     },
     "metadata": {
      "needs_background": "light"
     },
     "output_type": "display_data"
    }
   ],
   "source": [
    "ax = data.groupby([\"iteration\"]).mean().groupby([\"mediaBias\"]).mean()[\"womenMathScoreAvg\"].plot();\n",
    "data.groupby([\"iteration\"]).mean().groupby([\"mediaBias\"]).mean()[\"menMathScoreAvg\"].plot();\n",
    "ax.set_ylabel(\"Mean math score\");\n",
    "ax.legend([\"women\", \"men\"]);\n",
    "\n",
    "# it increasingly reduces for women, but stays quite stable for men. Probabily because it is balanced by the neuroticism factor, for which in men\n",
    "# the reinforcing mechanism is way higher (way more frequent in the model)"
   ]
  },
  {
   "attachments": {},
   "cell_type": "markdown",
   "metadata": {},
   "source": [
    "##   STEM Career GAP"
   ]
  },
  {
   "cell_type": "code",
   "execution_count": 11,
   "metadata": {},
   "outputs": [
    {
     "data": {
      "text/plain": [
       "0.4578713995497995"
      ]
     },
     "execution_count": 11,
     "metadata": {},
     "output_type": "execute_result"
    }
   ],
   "source": [
    "data.groupby([\"iteration\"]).mean()[\"womenSTEMPercentage\"].mean()"
   ]
  },
  {
   "cell_type": "code",
   "execution_count": 12,
   "metadata": {},
   "outputs": [
    {
     "data": {
      "text/html": [
       "<div>\n",
       "<style scoped>\n",
       "    .dataframe tbody tr th:only-of-type {\n",
       "        vertical-align: middle;\n",
       "    }\n",
       "\n",
       "    .dataframe tbody tr th {\n",
       "        vertical-align: top;\n",
       "    }\n",
       "\n",
       "    .dataframe thead th {\n",
       "        text-align: right;\n",
       "    }\n",
       "</style>\n",
       "<table border=\"1\" class=\"dataframe\">\n",
       "  <thead>\n",
       "    <tr style=\"text-align: right;\">\n",
       "      <th></th>\n",
       "      <th>neuroticismInfluence</th>\n",
       "      <th>socialInfluence</th>\n",
       "      <th>mathScoreInfluence</th>\n",
       "      <th>monthExchangeRate</th>\n",
       "      <th>mediaBias</th>\n",
       "      <th>womenSTEMPercentage</th>\n",
       "      <th>womenScience</th>\n",
       "      <th>menScience</th>\n",
       "      <th>womenNeuroticism</th>\n",
       "      <th>menNeuroticism</th>\n",
       "      <th>womenMathScoreAvg</th>\n",
       "      <th>menMathScoreAvg</th>\n",
       "    </tr>\n",
       "    <tr>\n",
       "      <th>iteration</th>\n",
       "      <th></th>\n",
       "      <th></th>\n",
       "      <th></th>\n",
       "      <th></th>\n",
       "      <th></th>\n",
       "      <th></th>\n",
       "      <th></th>\n",
       "      <th></th>\n",
       "      <th></th>\n",
       "      <th></th>\n",
       "      <th></th>\n",
       "      <th></th>\n",
       "    </tr>\n",
       "  </thead>\n",
       "  <tbody>\n",
       "    <tr>\n",
       "      <th>1</th>\n",
       "      <td>0.1</td>\n",
       "      <td>0.1</td>\n",
       "      <td>0.1</td>\n",
       "      <td>6.0</td>\n",
       "      <td>0.5</td>\n",
       "      <td>0.495120</td>\n",
       "      <td>261.40</td>\n",
       "      <td>257.15</td>\n",
       "      <td>417.90</td>\n",
       "      <td>356.30</td>\n",
       "      <td>4.839238</td>\n",
       "      <td>5.149086</td>\n",
       "    </tr>\n",
       "    <tr>\n",
       "      <th>2</th>\n",
       "      <td>0.1</td>\n",
       "      <td>0.1</td>\n",
       "      <td>0.4</td>\n",
       "      <td>6.0</td>\n",
       "      <td>0.5</td>\n",
       "      <td>0.480929</td>\n",
       "      <td>255.00</td>\n",
       "      <td>270.95</td>\n",
       "      <td>410.10</td>\n",
       "      <td>349.65</td>\n",
       "      <td>4.885281</td>\n",
       "      <td>5.315298</td>\n",
       "    </tr>\n",
       "    <tr>\n",
       "      <th>3</th>\n",
       "      <td>0.1</td>\n",
       "      <td>0.1</td>\n",
       "      <td>0.7</td>\n",
       "      <td>6.0</td>\n",
       "      <td>0.5</td>\n",
       "      <td>0.488426</td>\n",
       "      <td>261.35</td>\n",
       "      <td>259.60</td>\n",
       "      <td>408.75</td>\n",
       "      <td>342.25</td>\n",
       "      <td>4.879698</td>\n",
       "      <td>5.220679</td>\n",
       "    </tr>\n",
       "    <tr>\n",
       "      <th>4</th>\n",
       "      <td>0.1</td>\n",
       "      <td>0.1</td>\n",
       "      <td>0.1</td>\n",
       "      <td>6.0</td>\n",
       "      <td>0.7</td>\n",
       "      <td>0.482004</td>\n",
       "      <td>245.65</td>\n",
       "      <td>279.75</td>\n",
       "      <td>406.00</td>\n",
       "      <td>341.80</td>\n",
       "      <td>4.821224</td>\n",
       "      <td>5.298633</td>\n",
       "    </tr>\n",
       "    <tr>\n",
       "      <th>5</th>\n",
       "      <td>0.1</td>\n",
       "      <td>0.1</td>\n",
       "      <td>0.4</td>\n",
       "      <td>6.0</td>\n",
       "      <td>0.7</td>\n",
       "      <td>0.463718</td>\n",
       "      <td>239.75</td>\n",
       "      <td>291.50</td>\n",
       "      <td>410.80</td>\n",
       "      <td>360.35</td>\n",
       "      <td>4.741199</td>\n",
       "      <td>5.195300</td>\n",
       "    </tr>\n",
       "  </tbody>\n",
       "</table>\n",
       "</div>"
      ],
      "text/plain": [
       "           neuroticismInfluence  socialInfluence  mathScoreInfluence  \\\n",
       "iteration                                                              \n",
       "1                           0.1              0.1                 0.1   \n",
       "2                           0.1              0.1                 0.4   \n",
       "3                           0.1              0.1                 0.7   \n",
       "4                           0.1              0.1                 0.1   \n",
       "5                           0.1              0.1                 0.4   \n",
       "\n",
       "           monthExchangeRate  mediaBias  womenSTEMPercentage  womenScience  \\\n",
       "iteration                                                                    \n",
       "1                        6.0        0.5             0.495120        261.40   \n",
       "2                        6.0        0.5             0.480929        255.00   \n",
       "3                        6.0        0.5             0.488426        261.35   \n",
       "4                        6.0        0.7             0.482004        245.65   \n",
       "5                        6.0        0.7             0.463718        239.75   \n",
       "\n",
       "           menScience  womenNeuroticism  menNeuroticism  womenMathScoreAvg  \\\n",
       "iteration                                                                    \n",
       "1              257.15            417.90          356.30           4.839238   \n",
       "2              270.95            410.10          349.65           4.885281   \n",
       "3              259.60            408.75          342.25           4.879698   \n",
       "4              279.75            406.00          341.80           4.821224   \n",
       "5              291.50            410.80          360.35           4.741199   \n",
       "\n",
       "           menMathScoreAvg  \n",
       "iteration                   \n",
       "1                 5.149086  \n",
       "2                 5.315298  \n",
       "3                 5.220679  \n",
       "4                 5.298633  \n",
       "5                 5.195300  "
      ]
     },
     "execution_count": 12,
     "metadata": {},
     "output_type": "execute_result"
    }
   ],
   "source": [
    "data_agg = data.groupby([\"iteration\"]).mean().drop(columns = \"replication\")\n",
    "data_agg.head()"
   ]
  },
  {
   "attachments": {},
   "cell_type": "markdown",
   "metadata": {},
   "source": [
    "Let's see how this gap changes as our parameters do.."
   ]
  },
  {
   "attachments": {},
   "cell_type": "markdown",
   "metadata": {},
   "source": [
    "__Social Influence__"
   ]
  },
  {
   "cell_type": "code",
   "execution_count": 97,
   "metadata": {},
   "outputs": [
    {
     "data": {
      "text/plain": [
       "socialInfluence\n",
       "0.1    0.466895\n",
       "0.4    0.455484\n",
       "0.7    0.450890\n",
       "Name: womenSTEMPercentage, dtype: float64"
      ]
     },
     "execution_count": 97,
     "metadata": {},
     "output_type": "execute_result"
    }
   ],
   "source": [
    "data_agg.groupby([\"socialInfluence\"]).mean()[\"womenSTEMPercentage\"]"
   ]
  },
  {
   "cell_type": "code",
   "execution_count": 13,
   "metadata": {},
   "outputs": [
    {
     "data": {
      "text/plain": [
       "<matplotlib.collections.PathCollection at 0x235ddc43910>"
      ]
     },
     "execution_count": 13,
     "metadata": {},
     "output_type": "execute_result"
    },
    {
     "data": {
      "image/png": "[encoded data removed]",
      "text/plain": [
       "<Figure size 432x288 with 1 Axes>"
      ]
     },
     "metadata": {
      "needs_background": "light"
     },
     "output_type": "display_data"
    }
   ],
   "source": [
    "plt.scatter(data_agg[\"socialInfluence\"], data_agg[\"womenSTEMPercentage\"])"
   ]
  },
  {
   "cell_type": "code",
   "execution_count": 14,
   "metadata": {},
   "outputs": [
    {
     "data": {
      "text/plain": [
       "PearsonRResult(statistic=-0.3165492284559992, pvalue=5.817678410649472e-07)"
      ]
     },
     "execution_count": 14,
     "metadata": {},
     "output_type": "execute_result"
    }
   ],
   "source": [
    "pearsonr(data_agg[\"socialInfluence\"].values, data_agg[\"womenSTEMPercentage\"].values)"
   ]
  },
  {
   "attachments": {},
   "cell_type": "markdown",
   "metadata": {},
   "source": [
    "__Math Score Influence__"
   ]
  },
  {
   "cell_type": "code",
   "execution_count": 98,
   "metadata": {},
   "outputs": [
    {
     "data": {
      "text/plain": [
       "mathScoreInfluence\n",
       "0.1    0.448662\n",
       "0.4    0.457568\n",
       "0.7    0.467505\n",
       "Name: womenSTEMPercentage, dtype: float64"
      ]
     },
     "execution_count": 98,
     "metadata": {},
     "output_type": "execute_result"
    }
   ],
   "source": [
    "data_agg.groupby([\"mathScoreInfluence\"]).mean()[\"womenSTEMPercentage\"]"
   ]
  },
  {
   "cell_type": "code",
   "execution_count": 15,
   "metadata": {},
   "outputs": [
    {
     "data": {
      "text/plain": [
       "<matplotlib.collections.PathCollection at 0x235ddd27fd0>"
      ]
     },
     "execution_count": 15,
     "metadata": {},
     "output_type": "execute_result"
    },
    {
     "data": {
      "image/png": "[encoded data removed]",
      "text/plain": [
       "<Figure size 432x288 with 1 Axes>"
      ]
     },
     "metadata": {
      "needs_background": "light"
     },
     "output_type": "display_data"
    }
   ],
   "source": [
    "plt.scatter(data_agg[\"mathScoreInfluence\"], data_agg[\"womenSTEMPercentage\"])"
   ]
  },
  {
   "cell_type": "code",
   "execution_count": 16,
   "metadata": {},
   "outputs": [
    {
     "data": {
      "text/plain": [
       "PearsonRResult(statistic=0.3725328596877547, pvalue=2.775183772276129e-09)"
      ]
     },
     "execution_count": 16,
     "metadata": {},
     "output_type": "execute_result"
    }
   ],
   "source": [
    "pearsonr(data_agg[\"mathScoreInfluence\"].values, data_agg[\"womenSTEMPercentage\"].values)"
   ]
  },
  {
   "attachments": {},
   "cell_type": "markdown",
   "metadata": {},
   "source": [
    "__Neuroticism Influence__"
   ]
  },
  {
   "cell_type": "code",
   "execution_count": 99,
   "metadata": {},
   "outputs": [
    {
     "data": {
      "text/plain": [
       "neuroticismInfluence\n",
       "0.1    0.469172\n",
       "0.4    0.456316\n",
       "0.7    0.447621\n",
       "Name: womenSTEMPercentage, dtype: float64"
      ]
     },
     "execution_count": 99,
     "metadata": {},
     "output_type": "execute_result"
    }
   ],
   "source": [
    "data_agg.groupby([\"neuroticismInfluence\"]).mean()[\"womenSTEMPercentage\"]"
   ]
  },
  {
   "cell_type": "code",
   "execution_count": 17,
   "metadata": {},
   "outputs": [
    {
     "data": {
      "text/plain": [
       "<matplotlib.collections.PathCollection at 0x236005613a0>"
      ]
     },
     "execution_count": 17,
     "metadata": {},
     "output_type": "execute_result"
    },
    {
     "data": {
      "image/png": "[encoded data removed]",
      "text/plain": [
       "<Figure size 432x288 with 1 Axes>"
      ]
     },
     "metadata": {
      "needs_background": "light"
     },
     "output_type": "display_data"
    }
   ],
   "source": [
    "plt.scatter(data_agg[\"neuroticismInfluence\"], data_agg[\"womenSTEMPercentage\"])"
   ]
  },
  {
   "cell_type": "code",
   "execution_count": 18,
   "metadata": {},
   "outputs": [
    {
     "data": {
      "text/plain": [
       "PearsonRResult(statistic=-0.4253816107120431, pvalue=6.379296915502973e-12)"
      ]
     },
     "execution_count": 18,
     "metadata": {},
     "output_type": "execute_result"
    }
   ],
   "source": [
    "pearsonr(data_agg[\"neuroticismInfluence\"].values, data_agg[\"womenSTEMPercentage\"].values)"
   ]
  },
  {
   "attachments": {},
   "cell_type": "markdown",
   "metadata": {},
   "source": [
    "__Media bias__"
   ]
  },
  {
   "cell_type": "code",
   "execution_count": 101,
   "metadata": {},
   "outputs": [
    {
     "data": {
      "text/plain": [
       "mediaBias\n",
       "0.5    0.472892\n",
       "0.7    0.458371\n",
       "0.9    0.441761\n",
       "Name: womenSTEMPercentage, dtype: float64"
      ]
     },
     "execution_count": 101,
     "metadata": {},
     "output_type": "execute_result"
    }
   ],
   "source": [
    "data_agg.groupby([\"mediaBias\"]).mean()[\"womenSTEMPercentage\"]"
   ]
  },
  {
   "cell_type": "code",
   "execution_count": 19,
   "metadata": {},
   "outputs": [
    {
     "data": {
      "text/plain": [
       "<matplotlib.collections.PathCollection at 0x236005d1f40>"
      ]
     },
     "execution_count": 19,
     "metadata": {},
     "output_type": "execute_result"
    },
    {
     "data": {
      "image/png": "[encoded data removed]",
      "text/plain": [
       "<Figure size 432x288 with 1 Axes>"
      ]
     },
     "metadata": {
      "needs_background": "light"
     },
     "output_type": "display_data"
    }
   ],
   "source": [
    "plt.scatter(data_agg[\"mediaBias\"], data_agg[\"womenSTEMPercentage\"])"
   ]
  },
  {
   "cell_type": "code",
   "execution_count": 20,
   "metadata": {},
   "outputs": [
    {
     "data": {
      "text/plain": [
       "PearsonRResult(statistic=-0.6151982864346751, pvalue=2.802234624914734e-26)"
      ]
     },
     "execution_count": 20,
     "metadata": {},
     "output_type": "execute_result"
    }
   ],
   "source": [
    "pearsonr(data_agg[\"mediaBias\"].values, data_agg[\"womenSTEMPercentage\"].values)"
   ]
  },
  {
   "attachments": {},
   "cell_type": "markdown",
   "metadata": {},
   "source": [
    "__Exchange rate__"
   ]
  },
  {
   "cell_type": "code",
   "execution_count": 102,
   "metadata": {},
   "outputs": [
    {
     "data": {
      "text/plain": [
       "monthExchangeRate\n",
       "6.0     0.453726\n",
       "9.0     0.458561\n",
       "12.0    0.461507\n",
       "Name: womenSTEMPercentage, dtype: float64"
      ]
     },
     "execution_count": 102,
     "metadata": {},
     "output_type": "execute_result"
    }
   ],
   "source": [
    "data_agg.groupby([\"monthExchangeRate\"]).mean()[\"womenSTEMPercentage\"]"
   ]
  },
  {
   "cell_type": "code",
   "execution_count": 21,
   "metadata": {},
   "outputs": [
    {
     "data": {
      "text/plain": [
       "<matplotlib.collections.PathCollection at 0x23600a5c910>"
      ]
     },
     "execution_count": 21,
     "metadata": {},
     "output_type": "execute_result"
    },
    {
     "data": {
      "image/png": "[encoded data removed]",
      "text/plain": [
       "<Figure size 432x288 with 1 Axes>"
      ]
     },
     "metadata": {
      "needs_background": "light"
     },
     "output_type": "display_data"
    }
   ],
   "source": [
    "plt.scatter(data_agg[\"monthExchangeRate\"], data_agg[\"womenSTEMPercentage\"])"
   ]
  },
  {
   "cell_type": "code",
   "execution_count": 22,
   "metadata": {},
   "outputs": [
    {
     "data": {
      "text/plain": [
       "PearsonRResult(statistic=0.15364847112055863, pvalue=0.017452845163257943)"
      ]
     },
     "execution_count": 22,
     "metadata": {},
     "output_type": "execute_result"
    }
   ],
   "source": [
    "pearsonr(data_agg[\"monthExchangeRate\"].values, data_agg[\"womenSTEMPercentage\"].values)"
   ]
  },
  {
   "attachments": {},
   "cell_type": "markdown",
   "metadata": {},
   "source": [
    "Each parameter is giving its contribution. But it is their combination that changes things.."
   ]
  },
  {
   "attachments": {},
   "cell_type": "markdown",
   "metadata": {},
   "source": [
    "__Scenario 1__: Let's, for example, fix a high neuroticism influence combined with a low social exchange and high media bias in favour of men "
   ]
  },
  {
   "cell_type": "code",
   "execution_count": 28,
   "metadata": {},
   "outputs": [],
   "source": [
    "data = data.groupby([\"iteration\"]).mean()"
   ]
  },
  {
   "cell_type": "code",
   "execution_count": 34,
   "metadata": {},
   "outputs": [
    {
     "data": {
      "text/plain": [
       "0.43216934585836847"
      ]
     },
     "execution_count": 34,
     "metadata": {},
     "output_type": "execute_result"
    }
   ],
   "source": [
    "scenario_1 = data_agg[(data_agg.neuroticismInfluence ==  0.7) & (data_agg.mediaBias ==  0.9)]\n",
    "scenario_1[\"womenSTEMPercentage\"].mean()"
   ]
  },
  {
   "attachments": {},
   "cell_type": "markdown",
   "metadata": {},
   "source": [
    "__Scenario 2__: Let's, instead, consider a lower bias not to choose STEM if interested in social aspects. Even if we keep media hugely biased.."
   ]
  },
  {
   "cell_type": "code",
   "execution_count": 42,
   "metadata": {},
   "outputs": [
    {
     "data": {
      "text/plain": [
       "0.44795479130880345"
      ]
     },
     "execution_count": 42,
     "metadata": {},
     "output_type": "execute_result"
    }
   ],
   "source": [
    "scenario_2 = data_agg[(data_agg.mediaBias ==  0.9) & (data_agg.socialInfluence ==  0.1)  & (data_agg.neuroticismInfluence ==  0.7)]\n",
    "scenario_2[\"womenSTEMPercentage\"].mean()\n",
    "# the gap is a bit reduced "
   ]
  },
  {
   "attachments": {},
   "cell_type": "markdown",
   "metadata": {},
   "source": [
    "__Scenario 3__: if we encourage social exchange.."
   ]
  },
  {
   "cell_type": "code",
   "execution_count": 73,
   "metadata": {},
   "outputs": [
    {
     "data": {
      "text/plain": [
       "0.4413831033157107"
      ]
     },
     "execution_count": 73,
     "metadata": {},
     "output_type": "execute_result"
    }
   ],
   "source": [
    "scenario_3 = data_agg[(data_agg.mediaBias ==  0.9) & (data_agg.socialInfluence ==  0.1)  & (data_agg.neuroticismInfluence ==  0.7) & (data_agg.monthExchangeRate == 6)]\n",
    "scenario_3[\"womenSTEMPercentage\"].mean()\n",
    "# the gap is a bit reduced "
   ]
  },
  {
   "attachments": {},
   "cell_type": "markdown",
   "metadata": {},
   "source": [
    "__Scenario 4:__ With a bit of work on media.."
   ]
  },
  {
   "cell_type": "code",
   "execution_count": 80,
   "metadata": {},
   "outputs": [
    {
     "data": {
      "text/plain": [
       "0.4611034002664012"
      ]
     },
     "execution_count": 80,
     "metadata": {},
     "output_type": "execute_result"
    }
   ],
   "source": [
    "scenario_4 = data_agg[(data_agg.mediaBias ==  0.7) & (data_agg.socialInfluence ==  0.1) & (data_agg.monthExchangeRate == 6)]\n",
    "scenario_4[\"womenSTEMPercentage\"].mean()\n",
    "# the gap is a bit reduced "
   ]
  }
 ],
 "metadata": {
  "kernelspec": {
   "display_name": "Python 3",
   "language": "python",
   "name": "python3"
  },
  "language_info": {
   "codemirror_mode": {
    "name": "ipython",
    "version": 3
   },
   "file_extension": ".py",
   "mimetype": "text/x-python",
   "name": "python",
   "nbconvert_exporter": "python",
   "pygments_lexer": "ipython3",
   "version": "3.9.13"
  },
  "orig_nbformat": 4
 },
 "nbformat": 4,
 "nbformat_minor": 2
}
